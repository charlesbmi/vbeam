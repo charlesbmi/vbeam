{
 "cells": [
  {
   "cell_type": "markdown",
   "metadata": {},
   "source": [
    "# Multiple Line Acquisition Apodization\n",
    "Multiple Line Acquisition (MLA) lets us beamform multiple scanlines per transmit. In `vbeam`, MLA is implemented as a subclass of `vbeam.core.Apodization`.\n",
    "\n",
    "_A brief summary of the `vbeam.core.Apodization` class is that it contains a single function `__call__`, which in Python means that we can call the object as if it was a function. Calling the `Apodization` object as a function returns the apodization weighting for a single sender, point, receiver, and transmit. This becomes more clear in the following examples._\n",
    "\n",
    "Let's start by constructing our `MLAApodization` object. It takes two arguments: a window object (subclass of `vbeam.apodization.window.Window`) and a beam width. The window determines how to \"smooth out\" the scanlines and the beam width determines the \"thickness\" of the scanlines.\n",
    "\n",
    "Let's start by defining an `MLAApodization` with a rectangular window (no \"smoothing\") and a beam width of 1."
   ]
  },
  {
   "cell_type": "code",
   "execution_count": null,
   "metadata": {},
   "outputs": [],
   "source": [
    "from vbeam.apodization import MLAApodization, Rectangular\n",
    "\n",
    "apodization = MLAApodization(Rectangular(), 1)\n",
    "print(apodization)\n"
   ]
  },
  {
   "cell_type": "markdown",
   "metadata": {},
   "source": [
    "As mentioned, an `Apodization` object can be called as a function of a sender position, point position, receiver position, and the wave data for a given transmit. For wave data, `MLAApodization` requires the `\"source\"` (another word for focal point) field to be present.\n",
    "\n",
    "Let's try to get the apodization weighting for a couple of point positions: one that is within the focused scanlines and one that is outside of the focused scanlines. We can assert that the former gets a weighting of 1 (since it is in focus) and the latter 0 (since it is outside of focus)."
   ]
  },
  {
   "cell_type": "code",
   "execution_count": null,
   "metadata": {},
   "outputs": [],
   "source": [
    "import numpy as np\n",
    "from vbeam.core import WaveData, ElementGeometry\n",
    "\n",
    "focal_point = np.array([-1.0, 0.0, 2.5])  # (x, y, z)\n",
    "point_within_focus = np.array([-1.0, 0.0, 1.0])\n",
    "point_outside_focus = np.array([1.0, 0.0, 2.0])\n",
    "sender = ElementGeometry(np.array([-1.0, 0.0, 0.0]), 0.0, 0.0)\n",
    "receiver = ElementGeometry(np.array([0.0, 0.0, 0.0]), 0.0, 0.0)\n",
    "wave_data = WaveData(source=focal_point)\n",
    "\n",
    "assert apodization(sender, point_within_focus, receiver, wave_data) == 1\n",
    "assert apodization(sender, point_outside_focus, receiver, wave_data) == 0\n"
   ]
  },
  {
   "cell_type": "markdown",
   "metadata": {},
   "source": [
    "This is perhaps better understood visually. For this we have the `vbeam.apodization.visualize_apodization` function.\n",
    "\n",
    "`visualize_apodization` takes the apodization object and the same arguments as when calling it directly, except it takes a `vbeam.scan.Scan` object instead of a point position. A `Scan` object defines (among a few other things) what points to image. `visualize_apodization` creates a visualization of the apodization function across all the points defined by scan.\n",
    "\n",
    "Let's create a simple linear scan to visualize our `MLAApodization`."
   ]
  },
  {
   "cell_type": "code",
   "execution_count": null,
   "metadata": {},
   "outputs": [],
   "source": [
    "from vbeam.apodization import visualize_apodization\n",
    "from vbeam.scan import linear_scan\n",
    "\n",
    "scan = linear_scan(np.linspace(-2, 2), np.linspace(0, 5))\n",
    "visualization = visualize_apodization(apodization, scan, sender, receiver, wave_data)\n",
    "print(f\"{visualization.shape=}\")\n"
   ]
  },
  {
   "cell_type": "code",
   "execution_count": null,
   "metadata": {},
   "outputs": [],
   "source": [
    "# Code to plot the visualization and some of the defined points\n",
    "import matplotlib.pyplot as plt\n",
    "\n",
    "\n",
    "def plot_point(ax, point, text, color=None):\n",
    "    ax.scatter([point[0]], [point[2]], color=color)\n",
    "    ax.text(point[0], point[2] + 0.3, text, color=color, horizontalalignment=\"center\")\n",
    "\n",
    "\n",
    "def plot_visualization(\n",
    "    ax, visualization, focal_point=None, sender_position=None, extent=None\n",
    "):\n",
    "    ax.imshow(\n",
    "        visualization.T, aspect=\"auto\", extent=extent, origin=\"lower\", cmap=\"gray\"\n",
    "    )\n",
    "    plt.gca().invert_yaxis()\n",
    "    if focal_point is not None and sender_position is not None:\n",
    "        plot_point(ax, focal_point, \"Focal point\", \"blue\")\n",
    "        plot_point(ax, sender_position, \"Sender\", \"blue\")\n"
   ]
  },
  {
   "cell_type": "code",
   "execution_count": null,
   "metadata": {},
   "outputs": [],
   "source": [
    "plot_visualization(plt, visualization, focal_point, sender.position, scan.bounds)\n",
    "plot_point(plt, point_within_focus, \"Point in focus\", \"green\")\n",
    "plot_point(plt, point_outside_focus, \"Point out of focus\", \"red\")\n"
   ]
  },
  {
   "cell_type": "markdown",
   "metadata": {},
   "source": [
    "`MLAApodization` will produce approximately the same result as scanline imaging if the beamwidth is equal to the `width/num_x` of the scan. In other words, setting the beamwidth to the delta-x of the scan means that the scanlines will have a width of one pixel."
   ]
  },
  {
   "cell_type": "code",
   "execution_count": null,
   "metadata": {},
   "outputs": [],
   "source": [
    "delta_x = scan.spacings[0]\n",
    "visualization = visualize_apodization(\n",
    "    MLAApodization(Rectangular(), delta_x),  # beam_width = scan.delta_x\n",
    "    scan,\n",
    "    sender,\n",
    "    receiver,\n",
    "    wave_data,\n",
    ")\n",
    "plot_visualization(\n",
    "    plt, visualization, focal_point, sender.position, (-2.1, 2.1, -0.1, 5.1)\n",
    ")\n"
   ]
  },
  {
   "cell_type": "markdown",
   "metadata": {},
   "source": [
    "By using a window other than `Rectangular` we can get more \"smoothed out\" scanlines."
   ]
  },
  {
   "cell_type": "code",
   "execution_count": null,
   "metadata": {},
   "outputs": [],
   "source": [
    "from vbeam.apodization import Hamming\n",
    "\n",
    "visualization = visualize_apodization(\n",
    "    MLAApodization(Hamming(), delta_x * 10), scan, sender, receiver, wave_data\n",
    ")\n",
    "plot_visualization(\n",
    "    plt, visualization, focal_point, sender.position, (-2.1, 2.1, -0.1, 5.1)\n",
    ")\n"
   ]
  },
  {
   "cell_type": "markdown",
   "metadata": {},
   "source": [
    "# Multiple Line Acquisition Apodization for Sector Scans\n",
    "MLA scanlines are always in cartesian space, so in polar space, as in sector scans, they get distorted."
   ]
  },
  {
   "cell_type": "code",
   "execution_count": null,
   "metadata": {},
   "outputs": [],
   "source": [
    "from vbeam.scan import sector_scan\n",
    "\n",
    "\n",
    "scan = sector_scan(np.linspace(-1, 1), np.linspace(0, 5))\n",
    "sender = ElementGeometry(np.array([0.0, 0.0, 0.0]), 0.0, 0.0)\n",
    "wave_data = WaveData(source=np.array([0.7, 0.0, 2.0]))\n",
    "\n",
    "delta_x = scan.spacings[0]\n",
    "visualization = visualize_apodization(\n",
    "    MLAApodization(Rectangular(), delta_x), scan, sender, receiver, wave_data\n",
    ")\n",
    "plot_visualization(plt, visualization, extent=(-1, 1, 0, 5))\n",
    "plt.xlabel(\"Angle\")\n",
    "plt.ylabel(\"Depth\")\n"
   ]
  },
  {
   "cell_type": "markdown",
   "metadata": {},
   "source": [
    "To see that the scanlines are actually straight we can perform a cartesian mapping of the image. The image is mapped to cartesian coordinates using interpolation, and since the points are more sparse the further out in a sector scan we get, we see that the line becomes blurry."
   ]
  },
  {
   "cell_type": "code",
   "execution_count": null,
   "metadata": {},
   "outputs": [],
   "source": [
    "sector_background_color = scan.cartesian_map(np.ones(scan.shape) * 0.2)\n",
    "plot_visualization(\n",
    "    plt,\n",
    "    scan.cartesian_map(visualization) + sector_background_color,\n",
    "    wave_data.source,\n",
    "    sender.position,\n",
    "    extent=scan.cartesian_bounds,\n",
    ")\n"
   ]
  },
  {
   "cell_type": "markdown",
   "metadata": {},
   "source": [
    "## Using a `Scan` Optimized for Cartesian Space\n",
    "To get around the problem of sparse sampling of sector scans we can use a scan optimization method called `optimized_for_cartesian_space`. This converts the points themselves to cartesian coordinates before imaging and we get around the sampling problem. Notice how the line is equally sharp all the way through."
   ]
  },
  {
   "cell_type": "markdown",
   "metadata": {},
   "source": [
    "# TODO: Implement cartesian-space optimized sector scan"
   ]
  },
  {
   "cell_type": "code",
   "execution_count": null,
   "metadata": {},
   "outputs": [],
   "source": [
    "visualization = visualize_apodization(\n",
    "    MLAApodization(Hamming(), scan.delta_x * 4),\n",
    "    scan.optimized_for_cartesian_space(),\n",
    "    sender,\n",
    "    receiver,\n",
    "    wave_data,\n",
    ")\n",
    "plot_visualization(\n",
    "    plt,\n",
    "    visualization + sector_background_color,\n",
    "    wave_data.source,\n",
    "    sender.position,\n",
    "    extent=scan.cartesian_bounds,\n",
    ")\n"
   ]
  }
 ],
 "metadata": {
  "kernelspec": {
   "display_name": "Python 3.9.13 ('vbeam')",
   "language": "python",
   "name": "python3"
  },
  "language_info": {
   "codemirror_mode": {
    "name": "ipython",
    "version": 3
   },
   "file_extension": ".py",
   "mimetype": "text/x-python",
   "name": "python",
   "nbconvert_exporter": "python",
   "pygments_lexer": "ipython3",
   "version": "3.9.13"
  },
  "orig_nbformat": 4,
  "vscode": {
   "interpreter": {
    "hash": "f78124f24a546ecac1e62ce031484c66526a03554a1c77a8c535ffc422a71644"
   }
  }
 },
 "nbformat": 4,
 "nbformat_minor": 2
}
